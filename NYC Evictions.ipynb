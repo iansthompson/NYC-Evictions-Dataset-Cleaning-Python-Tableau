{
 "cells": [
  {
   "cell_type": "code",
   "execution_count": 1,
   "id": "cc42c9be",
   "metadata": {},
   "outputs": [],
   "source": [
    "import pandas as pd\n",
    "import numpy as np"
   ]
  },
  {
   "cell_type": "code",
   "execution_count": 2,
   "id": "ab80dcfa",
   "metadata": {
    "scrolled": false
   },
   "outputs": [
    {
     "name": "stdout",
     "output_type": "stream",
     "text": [
      "<class 'pandas.core.frame.DataFrame'>\n",
      "RangeIndex: 69806 entries, 0 to 69805\n",
      "Data columns (total 20 columns):\n",
      " #   Column                     Non-Null Count  Dtype  \n",
      "---  ------                     --------------  -----  \n",
      " 0   Court Index Number         69806 non-null  object \n",
      " 1   Docket Number              69806 non-null  int64  \n",
      " 2   Eviction Address           69806 non-null  object \n",
      " 3   Eviction Apartment Number  58087 non-null  object \n",
      " 4   Executed Date              69806 non-null  object \n",
      " 5   Marshal First Name         69806 non-null  object \n",
      " 6   Marshal Last Name          69806 non-null  object \n",
      " 7   Residential/Commercial     69806 non-null  object \n",
      " 8   BOROUGH                    69806 non-null  object \n",
      " 9   Eviction Postcode          69806 non-null  int64  \n",
      " 10  Ejectment                  69806 non-null  object \n",
      " 11  Eviction/Legal Possession  69806 non-null  object \n",
      " 12  Latitude                   63093 non-null  float64\n",
      " 13  Longitude                  63093 non-null  float64\n",
      " 14  Community Board            63093 non-null  float64\n",
      " 15  Council District           63093 non-null  float64\n",
      " 16  Census Tract               63093 non-null  float64\n",
      " 17  BIN                        62967 non-null  float64\n",
      " 18  BBL                        62967 non-null  float64\n",
      " 19  NTA                        63093 non-null  object \n",
      "dtypes: float64(7), int64(2), object(11)\n",
      "memory usage: 10.7+ MB\n"
     ]
    }
   ],
   "source": [
    "df = pd.read_csv('.../Evictions.csv')\n",
    "df.info()"
   ]
  },
  {
   "cell_type": "code",
   "execution_count": 3,
   "id": "4efe90c0",
   "metadata": {},
   "outputs": [
    {
     "data": {
      "text/plain": [
       "187"
      ]
     },
     "execution_count": 3,
     "metadata": {},
     "output_type": "execute_result"
    }
   ],
   "source": [
    "# Checking for Duplicate Rows\n",
    "df.duplicated().sum()"
   ]
  },
  {
   "cell_type": "code",
   "execution_count": 4,
   "id": "d242fa46",
   "metadata": {},
   "outputs": [],
   "source": [
    "# Removing Duplicate Rows\n",
    "df = df.drop_duplicates()"
   ]
  },
  {
   "cell_type": "code",
   "execution_count": 5,
   "id": "59d0c16e",
   "metadata": {},
   "outputs": [
    {
     "data": {
      "text/plain": [
       "0"
      ]
     },
     "execution_count": 5,
     "metadata": {},
     "output_type": "execute_result"
    }
   ],
   "source": [
    "# Double Checking Duplicated Rows \n",
    "df.duplicated().sum()"
   ]
  },
  {
   "cell_type": "code",
   "execution_count": 6,
   "id": "1e4e6516",
   "metadata": {
    "scrolled": false
   },
   "outputs": [
    {
     "data": {
      "text/plain": [
       "Court_Index_Number               0\n",
       "Docket_Number_                   0\n",
       "Eviction_Address                 0\n",
       "Eviction_Apartment_Number    11689\n",
       "Executed_Date                    0\n",
       "Marshal_First_Name               0\n",
       "Marshal_Last_Name                0\n",
       "Residential/Commercial           0\n",
       "BOROUGH                          0\n",
       "Eviction_Postcode                0\n",
       "Ejectment                        0\n",
       "Eviction/Legal_Possession        0\n",
       "Latitude                      6695\n",
       "Longitude                     6695\n",
       "Community_Board               6695\n",
       "Council_District              6695\n",
       "Census_Tract                  6695\n",
       "BIN                           6821\n",
       "BBL                           6821\n",
       "NTA                           6695\n",
       "dtype: int64"
      ]
     },
     "execution_count": 6,
     "metadata": {},
     "output_type": "execute_result"
    }
   ],
   "source": [
    "# Changing Column Names to Proper Naming Conventions\n",
    "df.columns = list(map(lambda x: x.replace(' ', '_'), df.columns))\n",
    "# Establishing Consistant Data for Null Values\n",
    "df.replace(to_replace=['','nan','NaN',None], value=np.nan, inplace=True)\n",
    "# Checking for duplicate rows\n",
    "df.isnull().sum()"
   ]
  },
  {
   "cell_type": "code",
   "execution_count": 7,
   "id": "616d2d30",
   "metadata": {},
   "outputs": [],
   "source": [
    "# First Creating ids for Marshals to protect Identities\n",
    "df['Marshal_id'] = pd.factorize(df.Marshal_First_Name+df.Marshal_Last_Name)[0]"
   ]
  },
  {
   "cell_type": "code",
   "execution_count": 8,
   "id": "2203fa86",
   "metadata": {},
   "outputs": [],
   "source": [
    "# Getting Rid of Unnecessary Data \n",
    "df = df.drop(['Docket_Number_','Eviction_Apartment_Number',\n",
    "         'Marshal_First_Name','Marshal_Last_Name','Census_Tract','BIN','BBL'], axis = 1)"
   ]
  },
  {
   "cell_type": "code",
   "execution_count": 9,
   "id": "773a996c",
   "metadata": {},
   "outputs": [
    {
     "data": {
      "text/plain": [
       "0"
      ]
     },
     "execution_count": 9,
     "metadata": {},
     "output_type": "execute_result"
    }
   ],
   "source": [
    "# Querying DataFrame for Rows that have non-null Longtitude and Latitude Values \n",
    "df = df.query('(Latitude == Latitude)')\n",
    "# Checking if Query Was Successful by Checking if Latitude Column Contains Any Null Values \n",
    "df[\"Latitude\"].isnull().sum()"
   ]
  },
  {
   "cell_type": "code",
   "execution_count": 10,
   "id": "af707180",
   "metadata": {},
   "outputs": [],
   "source": [
    "# Fixing DateTime Data Type Issues \n",
    "df['Executed_Date'] =  pd.to_datetime(df['Executed_Date'],format='%m/%d/%Y')\n",
    "# Creating New Data From DataTime Column\n",
    "df['Year'] = df['Executed_Date'].dt.year\n",
    "df['Month'] = df['Executed_Date'].dt.month\n",
    "df['Day'] = df['Executed_Date'].dt.day\n",
    "df['Weekday'] = df['Executed_Date'].dt.day_name()"
   ]
  },
  {
   "cell_type": "code",
   "execution_count": 11,
   "id": "652eb0f9",
   "metadata": {
    "scrolled": false
   },
   "outputs": [
    {
     "data": {
      "text/plain": [
       "Court_Index_Number           0\n",
       "Eviction_Address             0\n",
       "Executed_Date                0\n",
       "Residential/Commercial       0\n",
       "BOROUGH                      0\n",
       "Eviction_Postcode            0\n",
       "Ejectment                    0\n",
       "Eviction/Legal_Possession    0\n",
       "Latitude                     0\n",
       "Longitude                    0\n",
       "Community_Board              0\n",
       "Council_District             0\n",
       "NTA                          0\n",
       "Marshal_id                   0\n",
       "Year                         0\n",
       "Month                        0\n",
       "Day                          0\n",
       "Weekday                      0\n",
       "dtype: int64"
      ]
     },
     "execution_count": 11,
     "metadata": {},
     "output_type": "execute_result"
    }
   ],
   "source": [
    "df.isnull().sum()"
   ]
  },
  {
   "cell_type": "code",
   "execution_count": 12,
   "id": "52cca469",
   "metadata": {},
   "outputs": [],
   "source": [
    "# Saving externally as XLSX File\n",
    "df.to_excel('.../Evictions.xlsx',header=df.columns,index=False,index_label=df.columns)"
   ]
  }
 ],
 "metadata": {
  "kernelspec": {
   "display_name": "Python 3 (ipykernel)",
   "language": "python",
   "name": "python3"
  },
  "language_info": {
   "codemirror_mode": {
    "name": "ipython",
    "version": 3
   },
   "file_extension": ".py",
   "mimetype": "text/x-python",
   "name": "python",
   "nbconvert_exporter": "python",
   "pygments_lexer": "ipython3",
   "version": "3.9.7"
  }
 },
 "nbformat": 4,
 "nbformat_minor": 5
}
